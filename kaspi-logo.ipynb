{
 "cells": [
  {
   "cell_type": "code",
   "execution_count": null,
   "id": "fb675a00",
   "metadata": {
    "_cell_guid": "b1076dfc-b9ad-4769-8c92-a6c4dae69d19",
    "_uuid": "8f2839f25d086af736a60e9eeb907d3b93b6e0e5",
    "execution": {
     "iopub.execute_input": "2022-06-20T14:10:37.743497Z",
     "iopub.status.busy": "2022-06-20T14:10:37.742513Z",
     "iopub.status.idle": "2022-06-20T14:10:39.467736Z",
     "shell.execute_reply": "2022-06-20T14:10:39.466636Z"
    },
    "papermill": {
     "duration": 1.74039,
     "end_time": "2022-06-20T14:10:39.470380",
     "exception": false,
     "start_time": "2022-06-20T14:10:37.729990",
     "status": "completed"
    },
    "tags": []
   },
   "outputs": [],
   "source": [
    "import numpy as np \n",
    "import pandas as pd\n",
    "import plotly.express as px\n",
    "import seaborn as sns\n",
    "import matplotlib.pyplot as plt\n",
    "import os\n",
    "import warnings \n",
    "warnings.filterwarnings('ignore')\n",
    "import math"
   ]
  },
  {
   "cell_type": "code",
   "execution_count": null,
   "id": "c364ff5d",
   "metadata": {
    "execution": {
     "iopub.execute_input": "2022-06-20T14:10:39.488686Z",
     "iopub.status.busy": "2022-06-20T14:10:39.488282Z",
     "iopub.status.idle": "2022-06-20T14:10:39.731035Z",
     "shell.execute_reply": "2022-06-20T14:10:39.729936Z"
    },
    "papermill": {
     "duration": 0.254538,
     "end_time": "2022-06-20T14:10:39.733522",
     "exception": false,
     "start_time": "2022-06-20T14:10:39.478984",
     "status": "completed"
    },
    "tags": []
   },
   "outputs": [],
   "source": [
    "train=pd.read_csv(r'C:\\Users\\svnduw\\Downloads\\train\\train.csv')\n",
    "test=pd.read_csv(r'C:\\Users\\svnduw\\Downloads\\test.csv')"
   ]
  },
  {
   "cell_type": "code",
   "execution_count": null,
   "id": "af82e655",
   "metadata": {
    "execution": {
     "iopub.execute_input": "2022-06-20T14:10:39.750676Z",
     "iopub.status.busy": "2022-06-20T14:10:39.749671Z",
     "iopub.status.idle": "2022-06-20T14:10:39.787023Z",
     "shell.execute_reply": "2022-06-20T14:10:39.784799Z"
    },
    "papermill": {
     "duration": 0.049548,
     "end_time": "2022-06-20T14:10:39.790343",
     "exception": false,
     "start_time": "2022-06-20T14:10:39.740795",
     "status": "completed"
    },
    "tags": []
   },
   "outputs": [],
   "source": [
    "train.info()"
   ]
  },
  {
   "cell_type": "code",
   "execution_count": null,
   "id": "f4bd5db6",
   "metadata": {
    "execution": {
     "iopub.execute_input": "2022-06-20T14:10:39.807754Z",
     "iopub.status.busy": "2022-06-20T14:10:39.806810Z",
     "iopub.status.idle": "2022-06-20T14:10:42.544362Z",
     "shell.execute_reply": "2022-06-20T14:10:42.543557Z"
    },
    "papermill": {
     "duration": 2.757374,
     "end_time": "2022-06-20T14:10:42.555438",
     "exception": false,
     "start_time": "2022-06-20T14:10:39.798064",
     "status": "completed"
    },
    "tags": []
   },
   "outputs": [],
   "source": [
    "fig = px.histogram(train, x=\"c\",color='c')\n",
    "fig.show()"
   ]
  },
  {
   "cell_type": "code",
   "execution_count": null,
   "id": "e4cb252d",
   "metadata": {
    "execution": {
     "iopub.execute_input": "2022-06-20T14:10:42.586018Z",
     "iopub.status.busy": "2022-06-20T14:10:42.585464Z",
     "iopub.status.idle": "2022-06-20T14:10:42.606936Z",
     "shell.execute_reply": "2022-06-20T14:10:42.606183Z"
    },
    "papermill": {
     "duration": 0.03879,
     "end_time": "2022-06-20T14:10:42.608832",
     "exception": false,
     "start_time": "2022-06-20T14:10:42.570042",
     "status": "completed"
    },
    "tags": []
   },
   "outputs": [],
   "source": [
    "train.head()"
   ]
  },
  {
   "cell_type": "code",
   "execution_count": null,
   "id": "71e68e2d",
   "metadata": {
    "execution": {
     "iopub.execute_input": "2022-06-20T14:10:42.639561Z",
     "iopub.status.busy": "2022-06-20T14:10:42.638897Z",
     "iopub.status.idle": "2022-06-20T14:10:42.704087Z",
     "shell.execute_reply": "2022-06-20T14:10:42.703371Z"
    },
    "papermill": {
     "duration": 0.083204,
     "end_time": "2022-06-20T14:10:42.706249",
     "exception": false,
     "start_time": "2022-06-20T14:10:42.623045",
     "status": "completed"
    },
    "tags": []
   },
   "outputs": [],
   "source": [
    "train.describe().T"
   ]
  },
  {
   "cell_type": "code",
   "execution_count": null,
   "id": "50bd2dba",
   "metadata": {
    "execution": {
     "iopub.execute_input": "2022-06-20T14:10:42.737002Z",
     "iopub.status.busy": "2022-06-20T14:10:42.736436Z",
     "iopub.status.idle": "2022-06-20T14:10:42.762969Z",
     "shell.execute_reply": "2022-06-20T14:10:42.762241Z"
    },
    "papermill": {
     "duration": 0.044469,
     "end_time": "2022-06-20T14:10:42.764867",
     "exception": false,
     "start_time": "2022-06-20T14:10:42.720398",
     "status": "completed"
    },
    "tags": []
   },
   "outputs": [],
   "source": [
    "test.describe().T"
   ]
  },
  {
   "cell_type": "code",
   "execution_count": null,
   "id": "5bdc676a",
   "metadata": {},
   "outputs": [],
   "source": [
    "ax=sns.scatterplot(data=temp, x=\"x\", y=\"y\", hue=\"c\")\n",
    "plt.show()"
   ]
  },
  {
   "cell_type": "code",
   "execution_count": null,
   "id": "1d738cd2",
   "metadata": {},
   "outputs": [],
   "source": [
    "px.scatter(temp,x=\"x\", y=\"y\",color='c')\n"
   ]
  },
  {
   "cell_type": "code",
   "execution_count": null,
   "id": "ce5c8b68",
   "metadata": {
    "execution": {
     "iopub.execute_input": "2022-06-20T14:10:42.846139Z",
     "iopub.status.busy": "2022-06-20T14:10:42.845412Z",
     "iopub.status.idle": "2022-06-20T14:10:43.790228Z",
     "shell.execute_reply": "2022-06-20T14:10:43.789114Z"
    },
    "papermill": {
     "duration": 0.963898,
     "end_time": "2022-06-20T14:10:43.792646",
     "exception": false,
     "start_time": "2022-06-20T14:10:42.828748",
     "status": "completed"
    },
    "tags": []
   },
   "outputs": [],
   "source": [
    "temp=train.copy()\n",
    "from sklearn.model_selection import StratifiedShuffleSplit\n",
    "split = StratifiedShuffleSplit(n_splits=1, test_size=0.33, random_state=42)\n",
    "for train_index, test_index in split.split(temp, temp[\"c\"]):\n",
    "    strat_train_set = temp.loc[train_index]\n",
    "    strat_test_set = temp.loc[test_index]"
   ]
  },
  {
   "cell_type": "code",
   "execution_count": null,
   "id": "c2262b81",
   "metadata": {
    "execution": {
     "iopub.execute_input": "2022-06-20T14:10:43.825979Z",
     "iopub.status.busy": "2022-06-20T14:10:43.825540Z",
     "iopub.status.idle": "2022-06-20T14:10:45.301123Z",
     "shell.execute_reply": "2022-06-20T14:10:45.300202Z"
    },
    "papermill": {
     "duration": 1.500617,
     "end_time": "2022-06-20T14:10:45.308791",
     "exception": false,
     "start_time": "2022-06-20T14:10:43.808174",
     "status": "completed"
    },
    "tags": []
   },
   "outputs": [],
   "source": [
    "fig = px.histogram(strat_train_set, x=\"c\",color='c')\n",
    "fig.show()"
   ]
  },
  {
   "cell_type": "code",
   "execution_count": null,
   "id": "865c1c3f",
   "metadata": {
    "execution": {
     "iopub.execute_input": "2022-06-20T14:10:45.354616Z",
     "iopub.status.busy": "2022-06-20T14:10:45.353770Z",
     "iopub.status.idle": "2022-06-20T14:10:45.662566Z",
     "shell.execute_reply": "2022-06-20T14:10:45.661797Z"
    },
    "papermill": {
     "duration": 0.334457,
     "end_time": "2022-06-20T14:10:45.665446",
     "exception": false,
     "start_time": "2022-06-20T14:10:45.330989",
     "status": "completed"
    },
    "tags": []
   },
   "outputs": [],
   "source": [
    "fig = px.histogram(strat_test_set, x=\"c\",color='c')\n",
    "fig.show()"
   ]
  },
  {
   "cell_type": "code",
   "execution_count": null,
   "id": "9ea0016b",
   "metadata": {
    "execution": {
     "iopub.execute_input": "2022-06-20T14:10:45.715795Z",
     "iopub.status.busy": "2022-06-20T14:10:45.714886Z",
     "iopub.status.idle": "2022-06-20T14:10:45.722299Z",
     "shell.execute_reply": "2022-06-20T14:10:45.721391Z"
    },
    "papermill": {
     "duration": 0.035658,
     "end_time": "2022-06-20T14:10:45.724789",
     "exception": false,
     "start_time": "2022-06-20T14:10:45.689131",
     "status": "completed"
    },
    "tags": []
   },
   "outputs": [],
   "source": [
    "print(strat_test_set[\"c\"].value_counts() / len(strat_test_set))"
   ]
  },
  {
   "cell_type": "code",
   "execution_count": null,
   "id": "cd7216b7",
   "metadata": {
    "execution": {
     "iopub.execute_input": "2022-06-20T14:10:45.775688Z",
     "iopub.status.busy": "2022-06-20T14:10:45.775214Z",
     "iopub.status.idle": "2022-06-20T14:10:45.783780Z",
     "shell.execute_reply": "2022-06-20T14:10:45.782489Z"
    },
    "papermill": {
     "duration": 0.036628,
     "end_time": "2022-06-20T14:10:45.785924",
     "exception": false,
     "start_time": "2022-06-20T14:10:45.749296",
     "status": "completed"
    },
    "tags": []
   },
   "outputs": [],
   "source": [
    "print(strat_train_set[\"c\"].value_counts() / len(strat_train_set))"
   ]
  },
  {
   "cell_type": "code",
   "execution_count": null,
   "id": "5cda95e7",
   "metadata": {},
   "outputs": [],
   "source": [
    "fig, axes = plt.subplots(1, 2,figsize=(15, 5))\n",
    "sns.scatterplot(ax=axes[0],data=strat_train_set, x=\"x\", y=\"y\", hue=\"c\")\n",
    "axes[0].set_title('Train_data')\n",
    "sns.scatterplot(ax=axes[1],data=strat_test_set, x=\"x\", y=\"y\", hue=\"c\")\n",
    "axes[1].set_title('Test_data')\n",
    "plt.show()"
   ]
  },
  {
   "cell_type": "code",
   "execution_count": null,
   "id": "bb3ef9d2",
   "metadata": {
    "execution": {
     "iopub.execute_input": "2022-06-20T14:10:45.836442Z",
     "iopub.status.busy": "2022-06-20T14:10:45.836034Z",
     "iopub.status.idle": "2022-06-20T14:10:45.844611Z",
     "shell.execute_reply": "2022-06-20T14:10:45.843788Z"
    },
    "papermill": {
     "duration": 0.036273,
     "end_time": "2022-06-20T14:10:45.846557",
     "exception": false,
     "start_time": "2022-06-20T14:10:45.810284",
     "status": "completed"
    },
    "tags": []
   },
   "outputs": [],
   "source": [
    "y_train=strat_train_set[\"c\"]\n",
    "x_train=strat_train_set.drop(['id','c'],axis=1)\n",
    "y_test=strat_test_set[\"c\"]\n",
    "x_test=strat_test_set.drop(['id','c'],axis=1)"
   ]
  },
  {
   "cell_type": "code",
   "execution_count": null,
   "id": "4b9eee26",
   "metadata": {},
   "outputs": [],
   "source": [
    "from sklearn.preprocessing import MinMaxScaler\n",
    "scaler = MinMaxScaler()\n",
    "x_train= scaler.fit_transform(x_train)    \n",
    "x_test= scaler.transform(x_test) "
   ]
  },
  {
   "cell_type": "code",
   "execution_count": null,
   "id": "c2056df7",
   "metadata": {
    "execution": {
     "iopub.execute_input": "2022-06-20T14:10:45.964636Z",
     "iopub.status.busy": "2022-06-20T14:10:45.963654Z",
     "iopub.status.idle": "2022-06-20T14:10:46.475055Z",
     "shell.execute_reply": "2022-06-20T14:10:46.473746Z"
    },
    "papermill": {
     "duration": 0.540577,
     "end_time": "2022-06-20T14:10:46.478293",
     "exception": false,
     "start_time": "2022-06-20T14:10:45.937716",
     "status": "completed"
    },
    "tags": []
   },
   "outputs": [],
   "source": [
    "from sklearn.linear_model import LogisticRegression\n",
    "from sklearn.metrics import confusion_matrix\n",
    "from sklearn.metrics import precision_score, recall_score, f1_score, accuracy_score\n",
    "from sklearn.metrics import mean_squared_error\n",
    "logisticRegr = LogisticRegression()\n",
    "logisticRegr.fit(x_train, y_train)\n",
    "y_pred=logisticRegr.predict(x_test)\n",
    "cm= confusion_matrix(y_test,y_pred)  \n",
    "print('Precision: %.3f' % precision_score(y_test, y_pred))\n",
    "print('Recall: %.3f' % recall_score(y_test, y_pred))\n",
    "print('Accuracy: %.3f' % accuracy_score(y_test, y_pred))\n",
    "print('F1 Score: %.3f' % f1_score(y_test, y_pred))\n",
    "mse = mean_squared_error(y_test, y_pred)\n",
    "rmse = mse**.5\n",
    "print(mse)\n",
    "print(rmse)"
   ]
  },
  {
   "cell_type": "code",
   "execution_count": null,
   "id": "3d739a27",
   "metadata": {},
   "outputs": [],
   "source": [
    "from sklearn.naive_bayes import GaussianNB\n",
    "gnb = GaussianNB()\n",
    "gnb.fit(x_train, y_train)\n",
    "y_pred=gnb.predict(x_test)\n",
    "cm= confusion_matrix(y_test,y_pred)  \n",
    "print('Precision: %.3f' % precision_score(y_test, y_pred))\n",
    "print('Recall: %.3f' % recall_score(y_test, y_pred))\n",
    "print('Accuracy: %.3f' % accuracy_score(y_test, y_pred))\n",
    "print('F1 Score: %.3f' % f1_score(y_test, y_pred))\n",
    "mse = mean_squared_error(y_test, y_pred)\n",
    "rmse = mse**.5\n",
    "print(mse)\n",
    "print(rmse)"
   ]
  },
  {
   "cell_type": "code",
   "execution_count": null,
   "id": "67ac7b8c",
   "metadata": {
    "execution": {
     "iopub.execute_input": "2022-06-20T14:10:46.529866Z",
     "iopub.status.busy": "2022-06-20T14:10:46.529178Z",
     "iopub.status.idle": "2022-06-20T14:10:47.139553Z",
     "shell.execute_reply": "2022-06-20T14:10:47.138198Z"
    },
    "papermill": {
     "duration": 0.63942,
     "end_time": "2022-06-20T14:10:47.142500",
     "exception": false,
     "start_time": "2022-06-20T14:10:46.503080",
     "status": "completed"
    },
    "tags": []
   },
   "outputs": [],
   "source": [
    "from sklearn.tree import DecisionTreeClassifier  \n",
    "decision= DecisionTreeClassifier(criterion='entropy', random_state=0,max_depth=60)\n",
    "decision.fit(x_train, y_train)  \n",
    "y_pred=decision.predict(x_test)\n",
    "cm= confusion_matrix(y_test,y_pred)  \n",
    "print('Precision: %.3f' % precision_score(y_test, y_pred))\n",
    "print('Recall: %.3f' % recall_score(y_test, y_pred))\n",
    "print('Accuracy: %.3f' % accuracy_score(y_test, y_pred))\n",
    "print('F1 Score: %.3f' % f1_score(y_test, y_pred))\n",
    "mse = mean_squared_error(y_test, y_pred)\n",
    "rmse = mse**.5\n",
    "print('RMSE: ',rmse)"
   ]
  },
  {
   "cell_type": "code",
   "execution_count": null,
   "id": "271d8818",
   "metadata": {},
   "outputs": [],
   "source": [
    "from sklearn.ensemble import RandomForestClassifier\n",
    "model = RandomForestClassifier(n_estimators=10000,max_depth=60, criterion='entropy', min_samples_split=5, min_samples_leaf=2, max_features='auto', bootstrap=True, n_jobs=-1, random_state=42)\n",
    "model.fit(x_train,y_train)\n",
    "y_pred = model.predict(x_test)\n",
    "cm= confusion_matrix(y_test,y_pred)  \n",
    "print('Precision: %.3f' % precision_score(y_test, y_pred))\n",
    "print('Recall: %.3f' % recall_score(y_test, y_pred))\n",
    "print('Accuracy: %.3f' % accuracy_score(y_test, y_pred))\n",
    "print('F1 Score: %.3f' % f1_score(y_test, y_pred))\n",
    "mse = mean_squared_error(y_test, y_pred)\n",
    "rmse = mse**.5\n",
    "print('RMSE: ',rmse)"
   ]
  },
  {
   "cell_type": "code",
   "execution_count": null,
   "id": "068c128c",
   "metadata": {},
   "outputs": [],
   "source": [
    "from sklearn.model_selection import RandomizedSearchCV\n",
    "n_estimators = [int(x) for x in range(100,1000,100)]\n",
    "max_features = ['auto', 'sqrt']\n",
    "max_depth = [100,200,300,400]\n",
    "max_depth.append(None)\n",
    "bootstrap = [True, False]\n",
    "random_grid = {'n_estimators': n_estimators,\n",
    "               'max_features': max_features,\n",
    "               'max_depth': max_depth,\n",
    "               'bootstrap': bootstrap}\n",
    "print(random_grid)"
   ]
  },
  {
   "cell_type": "code",
   "execution_count": null,
   "id": "750b514a",
   "metadata": {},
   "outputs": [],
   "source": [
    "model = RandomForestClassifier()\n",
    "model_random = RandomizedSearchCV(estimator = model, param_distributions = random_grid, n_iter = 100, cv = 3, verbose=2, random_state=42, n_jobs = -1)\n",
    "model_random.fit(x_train, y_train)\n"
   ]
  },
  {
   "cell_type": "code",
   "execution_count": null,
   "id": "b3b31b3f",
   "metadata": {},
   "outputs": [],
   "source": [
    "def evaluate(model, test_features, test_labels):\n",
    "    y_pred = model.predict(test_features)\n",
    "    cm= confusion_matrix(y_test,y_pred)  \n",
    "    print('Precision: %.3f' % precision_score(y_test, y_pred))\n",
    "    print('Recall: %.3f' % recall_score(y_test, y_pred))\n",
    "    print('Accuracy: %.3f' % accuracy_score(y_test, y_pred))\n",
    "    print('F1 Score: %.3f' % f1_score(y_test, y_pred))\n",
    "    mse = mean_squared_error(y_test, y_pred)\n",
    "    rmse = mse**.5\n",
    "    print('RMSE: ',rmse)"
   ]
  },
  {
   "cell_type": "code",
   "execution_count": null,
   "id": "574a0dda",
   "metadata": {},
   "outputs": [],
   "source": [
    "best_grid = model_random.best_estimator_\n",
    "evaluate(best_grid,x_test,y_test)"
   ]
  },
  {
   "cell_type": "code",
   "execution_count": null,
   "id": "5a2b1dca",
   "metadata": {},
   "outputs": [],
   "source": [
    "model_random.best_params_"
   ]
  },
  {
   "cell_type": "code",
   "execution_count": null,
   "id": "2765e217",
   "metadata": {},
   "outputs": [],
   "source": [
    "import os\n",
    "import joblib\n",
    "path=r'C:\\Users\\svnduw\\Desktop\\Bekbol\\model'\n",
    "files=os.listdir(path)\n",
    "loaded_model = joblib.load(f'{path}//{files[0]}')"
   ]
  },
  {
   "cell_type": "code",
   "execution_count": null,
   "id": "866c1d2e",
   "metadata": {},
   "outputs": [],
   "source": [
    "evaluate(loaded_model,x_test,y_test)"
   ]
  },
  {
   "cell_type": "code",
   "execution_count": null,
   "id": "6bfa2734",
   "metadata": {},
   "outputs": [],
   "source": [
    "train.drop('id',axis=1,inplace=True)\n",
    "# test.drop('id',axis=1,inplace=True)\n",
    "test=test.merge(train,on=['x','y'],how='left')"
   ]
  },
  {
   "cell_type": "code",
   "execution_count": null,
   "id": "0797c0ef",
   "metadata": {},
   "outputs": [],
   "source": [
    "temp=test[test.c.isnull()]\n",
    "test=test[~test.c.isnull()]"
   ]
  },
  {
   "cell_type": "code",
   "execution_count": null,
   "id": "0c117445",
   "metadata": {
    "execution": {
     "iopub.execute_input": "2022-06-20T14:11:10.420552Z",
     "iopub.status.busy": "2022-06-20T14:11:10.420147Z",
     "iopub.status.idle": "2022-06-20T14:11:10.428221Z",
     "shell.execute_reply": "2022-06-20T14:11:10.427204Z"
    },
    "papermill": {
     "duration": 0.036187,
     "end_time": "2022-06-20T14:11:10.430083",
     "exception": false,
     "start_time": "2022-06-20T14:11:10.393896",
     "status": "completed"
    },
    "tags": []
   },
   "outputs": [],
   "source": [
    "test_validation=temp.drop(['c','id'],axis=1)\n",
    "test_validation= scaler.transform(test_validation) "
   ]
  },
  {
   "cell_type": "code",
   "execution_count": null,
   "id": "434b15e2",
   "metadata": {
    "execution": {
     "iopub.execute_input": "2022-06-20T14:11:10.480284Z",
     "iopub.status.busy": "2022-06-20T14:11:10.479872Z",
     "iopub.status.idle": "2022-06-20T14:11:10.789062Z",
     "shell.execute_reply": "2022-06-20T14:11:10.787968Z"
    },
    "papermill": {
     "duration": 0.337217,
     "end_time": "2022-06-20T14:11:10.791551",
     "exception": false,
     "start_time": "2022-06-20T14:11:10.454334",
     "status": "completed"
    },
    "tags": []
   },
   "outputs": [],
   "source": [
    "y_pred=loaded_model.predict(test_validation)"
   ]
  },
  {
   "cell_type": "code",
   "execution_count": null,
   "id": "d8dd6f2f",
   "metadata": {
    "execution": {
     "iopub.execute_input": "2022-06-20T14:11:10.843424Z",
     "iopub.status.busy": "2022-06-20T14:11:10.842989Z",
     "iopub.status.idle": "2022-06-20T14:11:10.847747Z",
     "shell.execute_reply": "2022-06-20T14:11:10.847011Z"
    },
    "papermill": {
     "duration": 0.033378,
     "end_time": "2022-06-20T14:11:10.849573",
     "exception": false,
     "start_time": "2022-06-20T14:11:10.816195",
     "status": "completed"
    },
    "tags": []
   },
   "outputs": [],
   "source": [
    "temp['c']=y_pred"
   ]
  },
  {
   "cell_type": "code",
   "execution_count": null,
   "id": "5693927b",
   "metadata": {},
   "outputs": [],
   "source": [
    "test=test.append(temp,ignore_index=True)"
   ]
  },
  {
   "cell_type": "code",
   "execution_count": null,
   "id": "b8871f34",
   "metadata": {},
   "outputs": [],
   "source": [
    "test=test.sort_values('id',ascending=True)"
   ]
  },
  {
   "cell_type": "code",
   "execution_count": null,
   "id": "d0a74da3",
   "metadata": {
    "scrolled": true
   },
   "outputs": [],
   "source": [
    "fig, axes = plt.subplots(1, 2,figsize=(15, 5))\n",
    "sns.scatterplot(ax=axes[0],data=train, x=\"x\", y=\"y\", hue=\"c\")\n",
    "axes[0].set_title('Train_data')\n",
    "sns.scatterplot(ax=axes[1],data=test, x=\"x\", y=\"y\", hue=\"c\")\n",
    "axes[1].set_title('Test_data')\n",
    "plt.show()"
   ]
  },
  {
   "cell_type": "code",
   "execution_count": null,
   "id": "c1435602",
   "metadata": {
    "execution": {
     "iopub.execute_input": "2022-06-20T14:11:10.900213Z",
     "iopub.status.busy": "2022-06-20T14:11:10.899391Z",
     "iopub.status.idle": "2022-06-20T14:11:10.905129Z",
     "shell.execute_reply": "2022-06-20T14:11:10.904439Z"
    },
    "papermill": {
     "duration": 0.033415,
     "end_time": "2022-06-20T14:11:10.907148",
     "exception": false,
     "start_time": "2022-06-20T14:11:10.873733",
     "status": "completed"
    },
    "tags": []
   },
   "outputs": [],
   "source": [
    "submission=test.drop(['x','y'],axis=1)"
   ]
  },
  {
   "cell_type": "code",
   "execution_count": null,
   "id": "a43c63a4",
   "metadata": {},
   "outputs": [],
   "source": [
    "submission['c']=submission['c'].round()\n",
    "submission['c']=submission['c'].astype(int)"
   ]
  },
  {
   "cell_type": "code",
   "execution_count": null,
   "id": "6f5d4984",
   "metadata": {
    "execution": {
     "iopub.execute_input": "2022-06-20T14:11:10.959654Z",
     "iopub.status.busy": "2022-06-20T14:11:10.959024Z",
     "iopub.status.idle": "2022-06-20T14:11:11.001220Z",
     "shell.execute_reply": "2022-06-20T14:11:11.000160Z"
    },
    "papermill": {
     "duration": 0.072064,
     "end_time": "2022-06-20T14:11:11.003976",
     "exception": false,
     "start_time": "2022-06-20T14:11:10.931912",
     "status": "completed"
    },
    "tags": []
   },
   "outputs": [],
   "source": [
    "submission.to_csv(r'C:\\Users\\svnduw\\Downloads\\submission.csv', index=False)"
   ]
  }
 ],
 "metadata": {
  "kernelspec": {
   "display_name": "Python 3",
   "language": "python",
   "name": "python3"
  },
  "language_info": {
   "codemirror_mode": {
    "name": "ipython",
    "version": 3
   },
   "file_extension": ".py",
   "mimetype": "text/x-python",
   "name": "python",
   "nbconvert_exporter": "python",
   "pygments_lexer": "ipython3",
   "version": "3.8.8"
  },
  "papermill": {
   "default_parameters": {},
   "duration": 44.76343,
   "end_time": "2022-06-20T14:11:12.001679",
   "environment_variables": {},
   "exception": null,
   "input_path": "__notebook__.ipynb",
   "output_path": "__notebook__.ipynb",
   "parameters": {},
   "start_time": "2022-06-20T14:10:27.238249",
   "version": "2.3.4"
  }
 },
 "nbformat": 4,
 "nbformat_minor": 5
}
